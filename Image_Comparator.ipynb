{
 "cells": [
  {
   "cell_type": "code",
   "execution_count": 1,
   "metadata": {},
   "outputs": [],
   "source": [
    "import cv2\n",
    "import numpy as np\n",
    "%matplotlib inline\n",
    "from matplotlib import pyplot as plt\n"
   ]
  },
  {
   "cell_type": "code",
   "execution_count": 2,
   "metadata": {},
   "outputs": [],
   "source": [
    "def imageComp(img_1,img_2):\n",
    "    sift = cv2.xfeatures2d.SIFT_create()\n",
    "    keys__1, desc_1 = sift.detectAndCompute(img_1, None)\n",
    "    keys__2, desc_2 = sift.detectAndCompute(img_2, None)\n",
    "    index_params = dict(algorithm=0, trees=5)\n",
    "    search_params = dict()\n",
    "    flann = cv2.FlannBasedMatcher(index_params, search_params)\n",
    "    matches = flann.knnMatch(desc_1, desc_2, k=2)\n",
    "    considerable_points = []\n",
    "    for m, n in matches:\n",
    "        if m.distance < 0.6*n.distance:\n",
    "            considerable_points.append(m)\n",
    "    number_keypoints = 0\n",
    "    if len(keys__1) <= len(keys__2):\n",
    "        number_keypoints = len(keys__1)\n",
    "    else:\n",
    "        number_keypoints = len(keys__2)\n",
    "\n",
    "    similarity = len(considerable_points) / number_keypoints * 100\n",
    "    print(\"Number of Keypoints in 1st Image: \" + str(len(keys__1)))\n",
    "    print(\"Number of Keypoints in 2nd Image\" + str(len(keys__2)))\n",
    "    print(\"Considerable Matches:\", len(considerable_points))\n",
    "    print(\"Similarity: \"+\"{:0.2f}\".format(similarity)+'%')\n",
    "\n",
    "    result = cv2.drawMatches(img_1, keys__1, img_2, keys__2, considerable_points, None)\n",
    "    \n",
    "    return result\n",
    "\n",
    "    "
   ]
  },
  {
   "cell_type": "code",
   "execution_count": 3,
   "metadata": {},
   "outputs": [
    {
     "name": "stdout",
     "output_type": "stream",
     "text": [
      "Number of Keypoints in 1st Image: 869\n",
      "Number of Keypoints in 2nd Image546\n",
      "Considerable Matches: 506\n",
      "Similarity: 92.67%\n"
     ]
    }
   ],
   "source": [
    "img_1 = cv2.imread(\"org.jpg\") #Replace with Image_1 Link\n",
    "img_2 = cv2.imread(\"dupe.jpg\") ##Replace with Image_1 Link\n",
    "result = imageComp(img_1,img_2)"
   ]
  },
  {
   "cell_type": "code",
   "execution_count": 4,
   "metadata": {},
   "outputs": [],
   "source": [
    "#Check the matched Keypoints:\n",
    "cv2.imshow(\"result\", cv2.resize(result, None, fx=0.35, fy=0.35))\n",
    "cv2.imwrite(\"Matches.jpg\", result)\n",
    "cv2.imshow(\"Image_1\", cv2.resize(img_1, None, fx=0.35, fy=0.35))\n",
    "cv2.imshow(\"Image_2\", cv2.resize(img_2, None, fx=0.35, fy=0.35))\n",
    "cv2.waitKey(0)\n",
    "cv2.destroyAllWindows()\n",
    "\n"
   ]
  },
  {
   "cell_type": "code",
   "execution_count": null,
   "metadata": {},
   "outputs": [],
   "source": []
  }
 ],
 "metadata": {
  "kernelspec": {
   "display_name": "Python 3",
   "language": "python",
   "name": "python3"
  },
  "language_info": {
   "codemirror_mode": {
    "name": "ipython",
    "version": 3
   },
   "file_extension": ".py",
   "mimetype": "text/x-python",
   "name": "python",
   "nbconvert_exporter": "python",
   "pygments_lexer": "ipython3",
   "version": "3.7.6"
  }
 },
 "nbformat": 4,
 "nbformat_minor": 4
}
